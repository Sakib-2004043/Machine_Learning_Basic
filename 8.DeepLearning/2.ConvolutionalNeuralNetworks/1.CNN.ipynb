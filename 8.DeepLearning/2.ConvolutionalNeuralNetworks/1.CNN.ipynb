version https://git-lfs.github.com/spec/v1
oid sha256:3cd9e968e30b9f276a0c2dd0352d90c18ca2d8ebdd838e3845cad6f8b7cf66bf
size 25976
